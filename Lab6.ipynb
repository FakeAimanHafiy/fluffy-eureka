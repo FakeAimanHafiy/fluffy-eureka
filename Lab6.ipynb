{
  "cells": [
    {
      "cell_type": "markdown",
      "metadata": {
        "id": "view-in-github",
        "colab_type": "text"
      },
      "source": [
        "<a href=\"https://colab.research.google.com/github/FakeAimanHafiy/fluffy-eureka/blob/Lab6/Lab6.ipynb\" target=\"_parent\"><img src=\"https://colab.research.google.com/assets/colab-badge.svg\" alt=\"Open In Colab\"/></a>"
      ]
    },
    {
      "cell_type": "markdown",
      "metadata": {
        "id": "X5PZefCQaJKp"
      },
      "source": [
        "<img src=\"tic3151.png\" style=\"height: 70px; width: 200px\" align=left> \n",
        "<img src=\"logo-MMU.png\" style=\"height: 70px; width: 200px\" align=right>  \n",
        "\n"
      ]
    },
    {
      "cell_type": "markdown",
      "metadata": {
        "id": "723lfvQdaJKr"
      },
      "source": [
        "# **Lab 6: Constraint Satisfaction Problem (CSP)**\n",
        "\n",
        "Towards the end of this lesson, you should be able to program in:\n",
        "- understand constraint satisfaction problem"
      ]
    },
    {
      "cell_type": "markdown",
      "metadata": {
        "id": "g1cv49fqaJKr"
      },
      "source": [
        "# Steps in CSP\n",
        "\n",
        "General steps in solving CSP using ``Constraint`` package:\n",
        "\n",
        "- import constraint\n",
        "- define a variable as our problem\n",
        "- add variables and their respective intervals to our problem\n",
        "- add built-in/custom constraints to our problem\n",
        "- fetch the solutions\n",
        "- go through the solutions to find the ones we need\n",
        "\n",
        "https://stackabuse.com/constraint-programming-with-python-constraint/"
      ]
    },
    {
      "cell_type": "markdown",
      "metadata": {
        "id": "o09SgrDpaJKr"
      },
      "source": [
        "### Installing the necessary libraries"
      ]
    },
    {
      "cell_type": "code",
      "execution_count": null,
      "metadata": {
        "id": "OHN7MOtCaJKs"
      },
      "outputs": [],
      "source": [
        "#!pip install python-constraint\n",
        "import constraint"
      ]
    },
    {
      "cell_type": "markdown",
      "metadata": {
        "id": "fshhoh4haJKs"
      },
      "source": [
        "## Sample 1\n",
        "\n",
        "**x** is \"constrained\" to the values 1,2,3,4,5,6; \n",
        "\n",
        "**y** has to be less than 10 and their sum has to be greater than or equal to 10.  "
      ]
    },
    {
      "cell_type": "code",
      "execution_count": null,
      "metadata": {
        "id": "0dXnxMS9aJKs"
      },
      "outputs": [],
      "source": [
        "# Domain variable definition\n",
        "\n",
        "# your answer here...\n",
        "problem = constraint.Problem()\n",
        "\n",
        "problem.addVariable('x',[1,2,3,4,5,6])\n",
        "problem.addVariable('y',range(10))"
      ]
    },
    {
      "cell_type": "code",
      "execution_count": null,
      "metadata": {
        "id": "Qj7lllZlaJKt"
      },
      "outputs": [],
      "source": [
        "# Domain constraint definition\n",
        "\n",
        "def our_constraint(x, y):  \n",
        "    # your answer here...\n",
        "    if x + y >= 10:\n",
        "        return True\n",
        "\n",
        "# your answer here...\n",
        "problem.addConstraint(our_constraint,['x','y'])"
      ]
    },
    {
      "cell_type": "code",
      "execution_count": null,
      "metadata": {
        "id": "sAniWY8DaJKt",
        "outputId": "43bbd422-a01e-431e-c336-ed6a42305756"
      },
      "outputs": [
        {
          "name": "stdout",
          "output_type": "stream",
          "text": [
            "(x,y) ∈ {(6,9),(6,8),(6,7),(6,6),(6,5),(6,4),(5,9),(5,8),(5,7),(5,6),(5,5),(4,9),(4,8),(4,7),(4,6),(3,9),(3,8),(3,7),(2,9),(2,8),(1,9)}\n"
          ]
        }
      ],
      "source": [
        "# Run solution\n",
        "\n",
        "# your answer here...\n",
        "solutions = problem.getSolutions()\n",
        "\n",
        "# Prettier way to print and see all solutions\n",
        "length = len(solutions)  \n",
        "print(\"(x,y) ∈ {\", end=\"\")  \n",
        "for index, solution in enumerate(solutions):  \n",
        "    if index == length - 1:\n",
        "        print(\"({},{})\".format(solution['x'], solution['y']), end=\"\")\n",
        "    else:\n",
        "        print(\"({},{}),\".format(solution['x'], solution['y']), end=\"\")\n",
        "print(\"}\")  "
      ]
    },
    {
      "cell_type": "markdown",
      "metadata": {
        "id": "E9RlOFPgaJKu"
      },
      "source": [
        "## Sample 2\n",
        "\n",
        "You recently got a job as a cashier. You're trying to convince your friend that it's hard work, there are just SO many ways to give someone their change back! Your \"friend\" shakes his head, obviously not believing you. He says \"It can't be that bad. How many ways can there POSSIBLY be to give someone their change back, for like 60 cents?\".\n",
        "\n",
        "Your response is, of course, to sit and quickly write a program that would prove your point. You have a decent amount of pennies (1 cent), nickels (5 cents), dimes (10 cents) and quarters (25 cents), and a lot of kinda suspicious coins worth 3 cents each. Calculate in how many ways you can return change for 60 cents.  \n",
        "\n",
        "**Note:** The order in which our result is printed isn't necessarily the same as the order in which we've added the variables. That is, if the result is (a,b,c,d,e) we don't know whether we have $a$ of 1 cent coins, $b$ of 3 cent coins, etc.\n",
        "\n",
        "So we should explicitly print the variable and its value. One consequence of this is that we can't use the built-in ``.ExactSumConstraint()`` in its two-parameter form, ``ExactSumConstraint(50,[1,3,5,10,20])``.\n",
        "\n",
        "The second parameter here is the \"weight\" of each variable (how many times it should be multiplied), and we have no guarantee which of our variables will have what weight."
      ]
    },
    {
      "cell_type": "code",
      "execution_count": null,
      "metadata": {
        "id": "gRUzNuhraJKu"
      },
      "outputs": [],
      "source": [
        "import constraint\n",
        "\n",
        "problem = constraint.Problem()\n",
        "\n",
        "# The maximum amount of each coin type can't be more than 60\n",
        "# (coin_value*num_of_coints) <= 60\n",
        "\n",
        "problem.addVariable(\"1 cent\", range(61))  \n",
        "problem.addVariable(\"3 cent\", range(21))  \n",
        "problem.addVariable(\"5 cent\", range(13))  \n",
        "problem.addVariable(\"10 cent\", range(7))  \n",
        "problem.addVariable(\"20 cent\", range(4))\n",
        "\n",
        "# your answer here...\n",
        "\n",
        "\n",
        "# Where we explicitly give the order in which the weights should be allocated\n",
        "\n",
        "# We could've used a custom constraint instead, BUT in this case the program will\n",
        "# run slightly slower - this is because built-in functions are optimized and\n",
        "# they find the solution more quickly\n",
        "# def custom_constraint(a, b, c, d, e):\n",
        "#     if a + 3*b + 5*c + 10*d + 20*e == 60:\n",
        "#         return True\n",
        "#     problem.addConstraint(o, [\"1 cent\", \"3 cent\", \"5 cent\",\"10 cent\", \"20 cent\"])\n",
        "\n",
        "def print_solutions(sols):  \n",
        "    for s in sols:\n",
        "        print(\"---\")\n",
        "        print(\"\"\"\n",
        "        1 cent: {0:d}\n",
        "        3 cent: {1:d}\n",
        "        5 cent: {2:d}\n",
        "        10 cent: {3:d}\n",
        "        20 cent: {4:d}\"\"\".format(s[\"1 cent\"], s[\"3 cent\"], s[\"5 cent\"], s[\"10 cent\"], s[\"20 cent\"]))\n",
        "        # If we wanted to we could check whether the sum was really 60\n",
        "        # print(\"Total:\", s[\"1 cent\"] + s[\"3 cent\"]*3 + s[\"5 cent\"]*5 + s[\"10 cent\"]*10 + s[\"20 cent\"]*20)\n",
        "        # print(\"---\")\n",
        "\n",
        "solutions = problem.getSolutions()  \n",
        "#print_solutions(solutions)\n",
        "print(\"Total number of ways: {}\".format(len(solutions)))  "
      ]
    },
    {
      "cell_type": "markdown",
      "metadata": {
        "id": "wVtblrHDaJKv"
      },
      "source": [
        "## Sample 3\n",
        "\n",
        "You wish to pack chocolates for your mother. Luckily you work in a chocolate factory that has a lot of leftover chocolate. You have a few chocolate types at your disposal.\n",
        "\n",
        "Your goal is to bring her the sweetest chocolate possible, that you can pack in your bag and sneak through security, and that wouldn't pass a certain net value for which you'd go to prison if you got caught.\n",
        "\n",
        "Security most likely won't get suspicious if you bring less than 3kg. You can fit into **one decimeter** (1 $dm^3$) (a volume unit which is exactly equivalent to a litre) of chocolate in your bag. You won't go to jail if you steal less than $300 worth of chocolate.  \n",
        "\n",
        "<img src=\"lab6_csp_fig.png\" style=\"height: 200px; width: 800px\" align=left> "
      ]
    },
    {
      "cell_type": "markdown",
      "metadata": {
        "id": "3lZqGf9daJKv"
      },
      "source": [
        "We'll first figure out how much of each chocolate we can have if we ONLY brought that type, so we can have the upper bound of our intervals. For example, for Chocolate A, based on weight we can bring at most 30 bars, based on value we can bring 37 at most, and based on volume we can bring 100.\n",
        "\n",
        "The smallest of these numbers is 30, and that's the maximum number of Chocolate A we can bring. The same steps give us the maximum amount of the rest, B -> 44, C -> 75, D -> 100."
      ]
    },
    {
      "cell_type": "code",
      "execution_count": null,
      "metadata": {
        "id": "B-EEMhJ_aJKv",
        "outputId": "b173f114-d98c-40d4-8508-897711dc0dab"
      },
      "outputs": [
        {
          "name": "stdout",
          "output_type": "stream",
          "text": [
            "  \n",
            "The maximum sweetness we can bring is: 730  \n",
            "We'll bring:  \n",
            "27 A Chocolates,\n",
            "2 B Chocolates,\n",
            "16 C Chocolates,\n",
            "2 D Chocolates\n",
            "\n"
          ]
        }
      ],
      "source": [
        "import constraint\n",
        "\n",
        "problem = constraint.Problem()\n",
        "\n",
        "problem.addVariable('A', range(31))  #abcd is the name of the chocolate, the range is with\n",
        "problem.addVariable('B', range(45))  #after calculations, we can see the max choco for A is 30, for b is 44, and so on.\n",
        "problem.addVariable('C', range(76))  \n",
        "problem.addVariable('D', range(101))\n",
        "\n",
        "# We have 3kg = 3,000g available\n",
        "def weight_constraint(a, b, c, d):  \n",
        "    if (a*100 + b*45 + c*10 + d*25) <= 3000:\n",
        "        return True\n",
        "\n",
        "# We have 1dm^3 = 1,000cm^3 available\n",
        "def volume_constraint(a, b, c, d):  \n",
        "    if (a*8*2.5*0.5 + b*6*2*0.5 * c*2*2*0.5 + d*3*3*0.5) <= 1000:\n",
        "        return True\n",
        "\n",
        "# We can't exceed $300\n",
        "def value_constraint(a, b, c, d):  \n",
        "    if (a*8 + b*6.8 + c*4 + d*3) < 300:\n",
        "        return True\n",
        "\n",
        "# your answer here...\n",
        "\n",
        "maximum_sweetness = 0  \n",
        "solution_found = {}  \n",
        "solutions = problem.getSolutions()\n",
        "\n",
        "# Get the conditions with maximum sweetness\n",
        "\n",
        "# your answer here...\n",
        "problem.addConstraint(weight_constraint, \"ABCD\")\n",
        "problem.addConstraint(volume_constraint, \"ABCD\")\n",
        "problem.addConstraint(value_constraint, \"ABCD\")\n",
        "\n",
        "maximum_sweetness=0\n",
        "solution_found={}\n",
        "solutions = problem.getSolutions()\n",
        "\n",
        "#get conditions with max sweetness\n",
        "for s in solutions:\n",
        "    current_sweetness=s['A']*20 +s['B']*16 +s['C']*9 +s['D']*7\n",
        "    if current_sweetness > maximum_sweetness:\n",
        "        maximum_sweetness = current_sweetness\n",
        "        solution_found = s\n",
        "\n",
        "print(\"\"\"  \n",
        "The maximum sweetness we can bring is: {}  \n",
        "We'll bring:  \n",
        "{} A Chocolates,\n",
        "{} B Chocolates,\n",
        "{} C Chocolates,\n",
        "{} D Chocolates\n",
        "\"\"\".format(maximum_sweetness, solution_found['A'], solution_found['B'], solution_found['C'], solution_found['D']))"
      ]
    }
  ],
  "metadata": {
    "kernelspec": {
      "display_name": "Python 3 (ipykernel)",
      "language": "python",
      "name": "python3"
    },
    "language_info": {
      "codemirror_mode": {
        "name": "ipython",
        "version": 3
      },
      "file_extension": ".py",
      "mimetype": "text/x-python",
      "name": "python",
      "nbconvert_exporter": "python",
      "pygments_lexer": "ipython3",
      "version": "3.9.12"
    },
    "colab": {
      "provenance": [],
      "include_colab_link": true
    }
  },
  "nbformat": 4,
  "nbformat_minor": 0
}